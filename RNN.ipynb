{
  "nbformat": 4,
  "nbformat_minor": 0,
  "metadata": {
    "colab": {
      "provenance": []
    },
    "kernelspec": {
      "name": "python3",
      "display_name": "Python 3"
    },
    "language_info": {
      "name": "python"
    }
  },
  "cells": [
    {
      "cell_type": "markdown",
      "source": [
        "Niranjan Jangir\n",
        "B21CH021\n",
        "\n"
      ],
      "metadata": {
        "id": "EiGhPiIB5PCr"
      }
    },
    {
      "cell_type": "markdown",
      "source": [
        "Implementation of Simple RNN model for the given data set:"
      ],
      "metadata": {
        "id": "wE3R5vIF5hyk"
      }
    },
    {
      "cell_type": "code",
      "source": [
        "#importing necessary libraries\n",
        "import numpy as np\n",
        "import pandas as pd\n",
        "from scipy.io import loadmat\n",
        "import matplotlib as plt\n",
        "import seaborn as sns\n",
        "import matplotlib.pyplot as plt\n",
        "import tensorflow as tf\n",
        "from tensorflow.keras.models import Sequential\n",
        "from tensorflow.keras.layers import SimpleRNN, Dense\n",
        "from tensorflow.keras.layers import Dense, Dropout, BatchNormalization"
      ],
      "metadata": {
        "id": "UC5dZo5hRpdv"
      },
      "execution_count": null,
      "outputs": []
    },
    {
      "cell_type": "markdown",
      "source": [
        "Reading the MATLAB data using loadmat"
      ],
      "metadata": {
        "id": "HFj0tg_254cs"
      }
    },
    {
      "cell_type": "code",
      "source": [
        "training_data = loadmat(r\"Training_Data_Four_Tanks.mat\")\n",
        "testing_data = loadmat(r\"Testing_Data_Four_Tanks.mat\")"
      ],
      "metadata": {
        "id": "4NtRYt3ISASF"
      },
      "execution_count": null,
      "outputs": []
    },
    {
      "cell_type": "markdown",
      "source": [
        "Converting this training and testing data to pandas dataframe. Also, splitting it into input, output and time span data"
      ],
      "metadata": {
        "id": "tVgc_l2i6RUW"
      }
    },
    {
      "cell_type": "code",
      "source": [
        "train_input_data = pd.DataFrame(training_data['input_data'],columns = ['v1','v2'])  #input features\n",
        "train_output_data = pd.DataFrame(training_data['output_data'],columns =['h1','h2']) #output features\n",
        "train_time_span = pd.DataFrame(training_data['time_span'],columns=['time']) #time span"
      ],
      "metadata": {
        "id": "vg7Ra_Q-SCXS"
      },
      "execution_count": null,
      "outputs": []
    },
    {
      "cell_type": "code",
      "source": [
        "test_input_data = pd.DataFrame(testing_data['input_data'],columns = ['v1','v2']) #input features\n",
        "test_output_data = pd.DataFrame(testing_data['output_data'],columns =['h1','h2']) #output features\n",
        "test_time_span = pd.DataFrame(testing_data['time_span'],columns=['time']) #time span"
      ],
      "metadata": {
        "id": "UNr_ZxGASGdN"
      },
      "execution_count": null,
      "outputs": []
    },
    {
      "cell_type": "markdown",
      "source": [
        "Implementation of the RNN model"
      ],
      "metadata": {
        "id": "rKufVWWf6et-"
      }
    },
    {
      "cell_type": "code",
      "source": [
        "# Define the model architecture\n",
        "def get_model(n_inputs, n_outputs):\n",
        "    model = Sequential()  # Initialize a Sequential model\n",
        "    model.add(Dense(64, input_dim=n_inputs, kernel_initializer='he_uniform', activation='relu'))  # Add a fully connected layer with 64 units, ReLU activation, and He uniform weight initialization\n",
        "    model.add(BatchNormalization())  # Add batch normalization layer to stabilize and accelerate the learning process\n",
        "    model.add(Dropout(0.2))  # Add dropout layer to randomly set a fraction of input units to 0 at each update during training to reduce overfitting\n",
        "    model.add(Dense(32, activation='relu'))  # Add another fully connected layer with 32 units and ReLU activation\n",
        "    model.add(Dense(n_outputs))  # Add the output layer\n",
        "    model.compile(loss='mae', optimizer='adam')  # Compile the model with mean absolute error loss and Adam optimizer\n",
        "    return model\n",
        "\n",
        "# Define and compile the  model\n",
        "model = get_model(train_input_data.shape[1], train_output_data.shape[1])  # Instantiate the model\n",
        "\n",
        "# Train the model\n",
        "model.fit(train_input_data, train_output_data, verbose=1, epochs=100, validation_split=0.2)  # Fit the model to training data with validation split and print progress during training\n"
      ],
      "metadata": {
        "colab": {
          "base_uri": "https://localhost:8080/"
        },
        "id": "GwQ2yppXVtcS",
        "outputId": "43c14861-f1fe-4096-e72c-8c1aec75c580"
      },
      "execution_count": null,
      "outputs": [
        {
          "output_type": "stream",
          "name": "stdout",
          "text": [
            "Epoch 1/100\n",
            "2250/2250 [==============================] - 4s 2ms/step - loss: 1.4439 - val_loss: 0.5373\n",
            "Epoch 2/100\n",
            "2250/2250 [==============================] - 3s 1ms/step - loss: 0.6168 - val_loss: 0.5714\n",
            "Epoch 3/100\n",
            "2250/2250 [==============================] - 3s 1ms/step - loss: 0.3265 - val_loss: 0.8111\n",
            "Epoch 4/100\n",
            "2250/2250 [==============================] - 4s 2ms/step - loss: 0.2508 - val_loss: 0.7819\n",
            "Epoch 5/100\n",
            "2250/2250 [==============================] - 3s 1ms/step - loss: 0.2429 - val_loss: 0.7953\n",
            "Epoch 6/100\n",
            "2250/2250 [==============================] - 3s 1ms/step - loss: 0.2396 - val_loss: 0.7901\n",
            "Epoch 7/100\n",
            "2250/2250 [==============================] - 3s 1ms/step - loss: 0.2383 - val_loss: 0.7917\n",
            "Epoch 8/100\n",
            "2250/2250 [==============================] - 4s 2ms/step - loss: 0.2370 - val_loss: 0.7994\n",
            "Epoch 9/100\n",
            "2250/2250 [==============================] - 3s 1ms/step - loss: 0.2368 - val_loss: 0.7950\n",
            "Epoch 10/100\n",
            "2250/2250 [==============================] - 3s 1ms/step - loss: 0.2363 - val_loss: 0.7863\n",
            "Epoch 11/100\n",
            "2250/2250 [==============================] - 4s 2ms/step - loss: 0.2351 - val_loss: 0.8028\n",
            "Epoch 12/100\n",
            "2250/2250 [==============================] - 3s 1ms/step - loss: 0.2349 - val_loss: 0.7997\n",
            "Epoch 13/100\n",
            "2250/2250 [==============================] - 3s 1ms/step - loss: 0.2356 - val_loss: 0.7685\n",
            "Epoch 14/100\n",
            "2250/2250 [==============================] - 3s 1ms/step - loss: 0.2351 - val_loss: 0.7736\n",
            "Epoch 15/100\n",
            "2250/2250 [==============================] - 4s 2ms/step - loss: 0.2344 - val_loss: 0.7691\n",
            "Epoch 16/100\n",
            "2250/2250 [==============================] - 3s 1ms/step - loss: 0.2335 - val_loss: 0.6965\n",
            "Epoch 17/100\n",
            "2250/2250 [==============================] - 3s 1ms/step - loss: 0.2314 - val_loss: 0.7451\n",
            "Epoch 18/100\n",
            "2250/2250 [==============================] - 4s 2ms/step - loss: 0.2297 - val_loss: 0.6578\n",
            "Epoch 19/100\n",
            "2250/2250 [==============================] - 3s 1ms/step - loss: 0.2235 - val_loss: 0.5469\n",
            "Epoch 20/100\n",
            "2250/2250 [==============================] - 3s 1ms/step - loss: 0.2179 - val_loss: 0.5377\n",
            "Epoch 21/100\n",
            "2250/2250 [==============================] - 3s 1ms/step - loss: 0.2070 - val_loss: 0.5001\n",
            "Epoch 22/100\n",
            "2250/2250 [==============================] - 3s 1ms/step - loss: 0.1994 - val_loss: 0.5105\n",
            "Epoch 23/100\n",
            "2250/2250 [==============================] - 3s 1ms/step - loss: 0.1997 - val_loss: 0.5186\n",
            "Epoch 24/100\n",
            "2250/2250 [==============================] - 3s 1ms/step - loss: 0.1986 - val_loss: 0.5144\n",
            "Epoch 25/100\n",
            "2250/2250 [==============================] - 4s 2ms/step - loss: 0.1984 - val_loss: 0.5039\n",
            "Epoch 26/100\n",
            "2250/2250 [==============================] - 3s 1ms/step - loss: 0.1978 - val_loss: 0.4917\n",
            "Epoch 27/100\n",
            "2250/2250 [==============================] - 3s 1ms/step - loss: 0.1987 - val_loss: 0.5236\n",
            "Epoch 28/100\n",
            "2250/2250 [==============================] - 3s 1ms/step - loss: 0.1972 - val_loss: 0.5262\n",
            "Epoch 29/100\n",
            "2250/2250 [==============================] - 3s 1ms/step - loss: 0.1980 - val_loss: 0.5239\n",
            "Epoch 30/100\n",
            "2250/2250 [==============================] - 3s 1ms/step - loss: 0.1971 - val_loss: 0.5122\n",
            "Epoch 31/100\n",
            "2250/2250 [==============================] - 3s 1ms/step - loss: 0.1971 - val_loss: 0.5682\n",
            "Epoch 32/100\n",
            "2250/2250 [==============================] - 4s 2ms/step - loss: 0.1973 - val_loss: 0.4741\n",
            "Epoch 33/100\n",
            "2250/2250 [==============================] - 3s 1ms/step - loss: 0.1959 - val_loss: 0.5156\n",
            "Epoch 34/100\n",
            "2250/2250 [==============================] - 3s 1ms/step - loss: 0.1961 - val_loss: 0.5130\n",
            "Epoch 35/100\n",
            "2250/2250 [==============================] - 3s 1ms/step - loss: 0.1967 - val_loss: 0.5273\n",
            "Epoch 36/100\n",
            "2250/2250 [==============================] - 3s 1ms/step - loss: 0.1967 - val_loss: 0.5135\n",
            "Epoch 37/100\n",
            "2250/2250 [==============================] - 3s 1ms/step - loss: 0.1961 - val_loss: 0.5205\n",
            "Epoch 38/100\n",
            "2250/2250 [==============================] - 3s 1ms/step - loss: 0.1957 - val_loss: 0.5076\n",
            "Epoch 39/100\n",
            "2250/2250 [==============================] - 4s 2ms/step - loss: 0.1963 - val_loss: 0.5033\n",
            "Epoch 40/100\n",
            "2250/2250 [==============================] - 3s 1ms/step - loss: 0.1968 - val_loss: 0.5034\n",
            "Epoch 41/100\n",
            "2250/2250 [==============================] - 3s 1ms/step - loss: 0.1953 - val_loss: 0.5178\n",
            "Epoch 42/100\n",
            "2250/2250 [==============================] - 3s 1ms/step - loss: 0.1945 - val_loss: 0.5074\n",
            "Epoch 43/100\n",
            "2250/2250 [==============================] - 4s 2ms/step - loss: 0.1938 - val_loss: 0.5035\n",
            "Epoch 44/100\n",
            "2250/2250 [==============================] - 3s 1ms/step - loss: 0.1952 - val_loss: 0.4981\n",
            "Epoch 45/100\n",
            "2250/2250 [==============================] - 3s 1ms/step - loss: 0.1947 - val_loss: 0.5035\n",
            "Epoch 46/100\n",
            "2250/2250 [==============================] - 4s 2ms/step - loss: 0.1943 - val_loss: 0.4907\n",
            "Epoch 47/100\n",
            "2250/2250 [==============================] - 3s 1ms/step - loss: 0.1946 - val_loss: 0.4957\n",
            "Epoch 48/100\n",
            "2250/2250 [==============================] - 3s 1ms/step - loss: 0.1930 - val_loss: 0.5034\n",
            "Epoch 49/100\n",
            "2250/2250 [==============================] - 3s 1ms/step - loss: 0.1941 - val_loss: 0.4871\n",
            "Epoch 50/100\n",
            "2250/2250 [==============================] - 3s 1ms/step - loss: 0.1935 - val_loss: 0.5029\n",
            "Epoch 51/100\n",
            "2250/2250 [==============================] - 3s 1ms/step - loss: 0.1934 - val_loss: 0.5110\n",
            "Epoch 52/100\n",
            "2250/2250 [==============================] - 3s 1ms/step - loss: 0.1934 - val_loss: 0.4994\n",
            "Epoch 53/100\n",
            "2250/2250 [==============================] - 4s 2ms/step - loss: 0.1927 - val_loss: 0.4939\n",
            "Epoch 54/100\n",
            "2250/2250 [==============================] - 3s 1ms/step - loss: 0.1931 - val_loss: 0.4967\n",
            "Epoch 55/100\n",
            "2250/2250 [==============================] - 3s 1ms/step - loss: 0.1936 - val_loss: 0.4985\n",
            "Epoch 56/100\n",
            "2250/2250 [==============================] - 3s 1ms/step - loss: 0.1929 - val_loss: 0.4993\n",
            "Epoch 57/100\n",
            "2250/2250 [==============================] - 4s 2ms/step - loss: 0.1924 - val_loss: 0.5027\n",
            "Epoch 58/100\n",
            "2250/2250 [==============================] - 3s 1ms/step - loss: 0.1931 - val_loss: 0.5052\n",
            "Epoch 59/100\n",
            "2250/2250 [==============================] - 3s 1ms/step - loss: 0.1932 - val_loss: 0.4882\n",
            "Epoch 60/100\n",
            "2250/2250 [==============================] - 4s 2ms/step - loss: 0.1937 - val_loss: 0.4945\n",
            "Epoch 61/100\n",
            "2250/2250 [==============================] - 3s 1ms/step - loss: 0.1932 - val_loss: 0.5007\n",
            "Epoch 62/100\n",
            "2250/2250 [==============================] - 3s 1ms/step - loss: 0.1922 - val_loss: 0.4999\n",
            "Epoch 63/100\n",
            "2250/2250 [==============================] - 3s 1ms/step - loss: 0.1929 - val_loss: 0.4900\n",
            "Epoch 64/100\n",
            "2250/2250 [==============================] - 3s 1ms/step - loss: 0.1923 - val_loss: 0.5035\n",
            "Epoch 65/100\n",
            "2250/2250 [==============================] - 3s 1ms/step - loss: 0.1926 - val_loss: 0.5024\n",
            "Epoch 66/100\n",
            "2250/2250 [==============================] - 3s 1ms/step - loss: 0.1925 - val_loss: 0.4964\n",
            "Epoch 67/100\n",
            "2250/2250 [==============================] - 4s 2ms/step - loss: 0.1917 - val_loss: 0.5041\n",
            "Epoch 68/100\n",
            "2250/2250 [==============================] - 3s 1ms/step - loss: 0.1928 - val_loss: 0.4924\n",
            "Epoch 69/100\n",
            "2250/2250 [==============================] - 3s 1ms/step - loss: 0.1923 - val_loss: 0.4888\n",
            "Epoch 70/100\n",
            "2250/2250 [==============================] - 3s 2ms/step - loss: 0.1920 - val_loss: 0.4885\n",
            "Epoch 71/100\n",
            "2250/2250 [==============================] - 3s 1ms/step - loss: 0.1933 - val_loss: 0.4943\n",
            "Epoch 72/100\n",
            "2250/2250 [==============================] - 3s 1ms/step - loss: 0.1922 - val_loss: 0.4998\n",
            "Epoch 73/100\n",
            "2250/2250 [==============================] - 3s 1ms/step - loss: 0.1929 - val_loss: 0.4917\n",
            "Epoch 74/100\n",
            "2250/2250 [==============================] - 4s 2ms/step - loss: 0.1932 - val_loss: 0.5058\n",
            "Epoch 75/100\n",
            "2250/2250 [==============================] - 3s 1ms/step - loss: 0.1923 - val_loss: 0.5010\n",
            "Epoch 76/100\n",
            "2250/2250 [==============================] - 3s 1ms/step - loss: 0.1913 - val_loss: 0.4968\n",
            "Epoch 77/100\n",
            "2250/2250 [==============================] - 4s 2ms/step - loss: 0.1926 - val_loss: 0.5006\n",
            "Epoch 78/100\n",
            "2250/2250 [==============================] - 3s 1ms/step - loss: 0.1924 - val_loss: 0.4967\n",
            "Epoch 79/100\n",
            "2250/2250 [==============================] - 3s 1ms/step - loss: 0.1917 - val_loss: 0.5000\n",
            "Epoch 80/100\n",
            "2250/2250 [==============================] - 3s 1ms/step - loss: 0.1921 - val_loss: 0.4911\n",
            "Epoch 81/100\n",
            "2250/2250 [==============================] - 4s 2ms/step - loss: 0.1932 - val_loss: 0.5074\n",
            "Epoch 82/100\n",
            "2250/2250 [==============================] - 3s 1ms/step - loss: 0.1932 - val_loss: 0.4930\n",
            "Epoch 83/100\n",
            "2250/2250 [==============================] - 3s 1ms/step - loss: 0.1921 - val_loss: 0.5025\n",
            "Epoch 84/100\n",
            "2250/2250 [==============================] - 4s 2ms/step - loss: 0.1919 - val_loss: 0.4913\n",
            "Epoch 85/100\n",
            "2250/2250 [==============================] - 3s 1ms/step - loss: 0.1925 - val_loss: 0.4930\n",
            "Epoch 86/100\n",
            "2250/2250 [==============================] - 3s 1ms/step - loss: 0.1925 - val_loss: 0.4973\n",
            "Epoch 87/100\n",
            "2250/2250 [==============================] - 3s 1ms/step - loss: 0.1919 - val_loss: 0.4921\n",
            "Epoch 88/100\n",
            "2250/2250 [==============================] - 3s 1ms/step - loss: 0.1915 - val_loss: 0.5071\n",
            "Epoch 89/100\n",
            "2250/2250 [==============================] - 3s 1ms/step - loss: 0.1931 - val_loss: 0.4866\n",
            "Epoch 90/100\n",
            "2250/2250 [==============================] - 3s 1ms/step - loss: 0.1921 - val_loss: 0.5018\n",
            "Epoch 91/100\n",
            "2250/2250 [==============================] - 3s 2ms/step - loss: 0.1922 - val_loss: 0.4976\n",
            "Epoch 92/100\n",
            "2250/2250 [==============================] - 3s 1ms/step - loss: 0.1922 - val_loss: 0.4954\n",
            "Epoch 93/100\n",
            "2250/2250 [==============================] - 3s 1ms/step - loss: 0.1920 - val_loss: 0.4856\n",
            "Epoch 94/100\n",
            "2250/2250 [==============================] - 3s 2ms/step - loss: 0.1915 - val_loss: 0.5079\n",
            "Epoch 95/100\n",
            "2250/2250 [==============================] - 3s 2ms/step - loss: 0.1924 - val_loss: 0.5281\n",
            "Epoch 96/100\n",
            "2250/2250 [==============================] - 3s 1ms/step - loss: 0.1920 - val_loss: 0.4801\n",
            "Epoch 97/100\n",
            "2250/2250 [==============================] - 3s 1ms/step - loss: 0.1931 - val_loss: 0.4991\n",
            "Epoch 98/100\n",
            "2250/2250 [==============================] - 4s 2ms/step - loss: 0.1929 - val_loss: 0.5130\n",
            "Epoch 99/100\n",
            "2250/2250 [==============================] - 3s 1ms/step - loss: 0.1921 - val_loss: 0.5016\n",
            "Epoch 100/100\n",
            "2250/2250 [==============================] - 3s 1ms/step - loss: 0.1915 - val_loss: 0.5034\n"
          ]
        },
        {
          "output_type": "execute_result",
          "data": {
            "text/plain": [
              "<keras.src.callbacks.History at 0x7f5af0eb2860>"
            ]
          },
          "metadata": {},
          "execution_count": 8
        }
      ]
    },
    {
      "cell_type": "markdown",
      "source": [
        "After checking the model efficiency on different epochs, it was concluded that for epoch = 100, the loss is reached to saturation low value."
      ],
      "metadata": {
        "id": "Lnj268To78jw"
      }
    },
    {
      "cell_type": "markdown",
      "source": [
        "Evaluating the model on the testing input and output dataset:"
      ],
      "metadata": {
        "id": "BVK3r2aD7AqR"
      }
    },
    {
      "cell_type": "code",
      "source": [
        "mae = model2.evaluate(test_input_data, test_output_data, verbose=1)"
      ],
      "metadata": {
        "colab": {
          "base_uri": "https://localhost:8080/"
        },
        "id": "s6Iizup7XsP-",
        "outputId": "dfc9b54a-d164-4e46-e223-a97ad47000e1"
      },
      "execution_count": null,
      "outputs": [
        {
          "output_type": "stream",
          "name": "stdout",
          "text": [
            "1876/1876 [==============================] - 4s 2ms/step - loss: 0.2589\n"
          ]
        }
      ]
    },
    {
      "cell_type": "markdown",
      "source": [
        "Printing the loss after the evaluation:"
      ],
      "metadata": {
        "id": "A5mO1RjN7Grm"
      }
    },
    {
      "cell_type": "code",
      "source": [
        "print('>%.4f' %mae)"
      ],
      "metadata": {
        "colab": {
          "base_uri": "https://localhost:8080/"
        },
        "id": "RwJ79yrpXzgb",
        "outputId": "03f66fa8-8eb5-4d8f-df36-cf6c8dcedeb3"
      },
      "execution_count": null,
      "outputs": [
        {
          "output_type": "stream",
          "name": "stdout",
          "text": [
            ">0.2589\n"
          ]
        }
      ]
    },
    {
      "cell_type": "markdown",
      "source": [
        "The low error implies that the model performance is good enough on the testing dataset"
      ],
      "metadata": {
        "id": "t-e3vDY17JwP"
      }
    }
  ]
}